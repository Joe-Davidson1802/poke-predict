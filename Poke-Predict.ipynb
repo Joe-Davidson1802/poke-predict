{
 "cells": [
  {
   "cell_type": "code",
   "execution_count": 1,
   "metadata": {},
   "outputs": [
    {
     "name": "stdout",
     "output_type": "stream",
     "text": [
      "Downloading normal pokemon images\n",
      "[>                                                                                                    ] 0% Done (0/107)\n",
      "\n",
      "Item no.: 1 --> Item name = Rattata pokemon\n",
      "Evaluating...\n",
      "Starting Download...\n",
      "Completed Image ====> 1. 250px-019rattata.png\n",
      "Completed Image ====> 2. rattata-alolan.jpg\n",
      "Completed Image ====> 3. 020.png\n",
      "Completed Image ====> 4. 1d8ca2958cf432a65b79a9848c2cf3f4eb0c663b_hq.jpg\n",
      "Completed Image ====> 5. 19-rattata.png\n",
      "Completed Image ====> 6. 019rattata_ag_anime.png\n",
      "Completed Image ====> 7. 175px-ratty_rattata.png\n",
      "Completed Image ====> 8. rattata.gif\n",
      "Completed Image ====> 9. 16019-alolan-rattata.png\n",
      "Completed Image ====> 10. latest?cb=20150625061246.jpg\n",
      "Completed Image ====> 11. 019rattata_ag_anime.png\n",
      "Completed Image ====> 12. e9e5e6bf3c87e4a8cba9e0dcc739908b9b7ae4fc_hq.jpg\n",
      "Completed Image ====> 13. 6019-shiny-rattata-lightning.png\n",
      "Completed Image ====> 14. screen%2bshot%2b2016-05-06%2bat%2b10.53.59%2bpm.png\n",
      "Completed Image ====> 15. pokemon-go-alolan-rattata.jpg\n",
      "Completed Image ====> 16. maxresdefault.jpg\n",
      "Completed Image ====> 17. 019-00.png\n",
      "Completed Image ====> 18. latest?cb=20160809162328.jpg\n",
      "Completed Image ====> 19. pokemon-quest-rattata.png\n",
      "Completed Image ====> 20. 250px-alolan_rattata_anime.png\n",
      "Completed Image ====> 21. yfy4i9eskfxa2codbaxe.png\n",
      "Completed Image ====> 22. pokemon-go-screens-alolan-rattata-raticate.jpg\n",
      "Completed Image ====> 23. 250px-rattata_anime.png\n",
      "Completed Image ====> 24. ik2l4gi5acdx.jpg\n",
      "Completed Image ====> 25. zombie-art-rattata-pokemon-go.jpg\n",
      "\n",
      "Errors: 0\n",
      "\n"
     ]
    },
    {
     "name": "stderr",
     "output_type": "stream",
     "text": [
      "Traceback (most recent call last):\n",
      "  File \"./Data/download.py\", line 94, in <module>\n",
      "    download(NAMES, \"normal\")\n",
      "  File \"./Data/download.py\", line 53, in download\n",
      "    total = total + found\n",
      "TypeError: unsupported operand type(s) for +: 'int' and 'dict'\n"
     ]
    }
   ],
   "source": [
    "!python ./Data/download.py -t all"
   ]
  },
  {
   "cell_type": "code",
   "execution_count": null,
   "metadata": {},
   "outputs": [],
   "source": []
  }
 ],
 "metadata": {
  "kernelspec": {
   "display_name": "Python 3",
   "language": "python",
   "name": "python3"
  },
  "cells": [
    {
      "metadata": {
        "id": "LfG0Zzz6XzlL",
        "colab_type": "code",
        "colab": {}
      },
      "cell_type": "code",
      "source": [
        ""
      ],
      "execution_count": 0,
      "outputs": []
    }
  ]
}